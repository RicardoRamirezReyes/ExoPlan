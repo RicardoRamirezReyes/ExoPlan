{
 "cells": [
  {
   "cell_type": "code",
   "execution_count": 1,
   "metadata": {},
   "outputs": [],
   "source": [
    "%matplotlib inline"
   ]
  },
  {
   "cell_type": "code",
   "execution_count": 3,
   "metadata": {},
   "outputs": [],
   "source": [
    "import os\n",
    "import astropy.io.fits as py\n",
    "import numpy as np\n",
    "import matplotlib.pyplot as plt\n",
    "\n",
    "#from scipy.interpolate import interp1d\n",
    "from astropy.time import Time\n",
    "\n",
    "plt.rcParams['figure.figsize'] = (20, 8)\n",
    "plt.rcParams['font.size'] = 25"
   ]
  },
  {
   "cell_type": "markdown",
   "metadata": {},
   "source": [
    "# Parameters"
   ]
  },
  {
   "cell_type": "markdown",
   "metadata": {},
   "source": [
    "# Function"
   ]
  },
  {
   "cell_type": "code",
   "execution_count": 16,
   "metadata": {},
   "outputs": [],
   "source": [
    "def CalculateTimeRange(T0, TransitDuration, ObsercationTime, Transit_at_left = True):\n",
    "    star_transit = T0 - TransitDuration/2\n",
    "    end_transit  = T0 + TransitDuration/2\n",
    "    safe_start = star_transit - 1/24   # minimiun continuum 1h left\n",
    "    safe_end = end_transit + 1/24      # minimun continuum 1h right\n",
    "    extra_time = ObsercationTime - (safe_end - safe_start)\n",
    "    if Transit_at_left:  # transit is at left, best part at right\n",
    "        star_time2 = safe_start\n",
    "        end_time2  = safe_end + extra_time\n",
    "        #proposal_time = \n",
    "    else:\n",
    "        star_time2 = safe_start - extra_time\n",
    "        end_time2  = safe_end \n",
    "    return star_time2, end_time2, star_transit, end_transit"
   ]
  },
  {
   "cell_type": "code",
   "execution_count": 63,
   "metadata": {},
   "outputs": [],
   "source": [
    "def Time_format(time):\n",
    "    #if int(time[11])==0:\n",
    "    #    return(time[:10]+ 'T'+ time[12:16])\n",
    "    #else:\n",
    "    #    return(time[:10]+ 'T'+ time[11:16])\n",
    "    return(time[:10]+ 'T'+ time[11:16])"
   ]
  },
  {
   "cell_type": "code",
   "execution_count": 65,
   "metadata": {},
   "outputs": [
    {
     "name": "stdout",
     "output_type": "stream",
     "text": [
      "2460218.6651019976 2460218.7901019976\n",
      "2023-10-01 03:57:44.813\n",
      "2023-10-01 06:57:44.813\n",
      "2023-10-01 05:07:44.813\n",
      "2023-10-01 05:57:44.813\n",
      "---\n",
      "between(2023-10-01T03:57, 2023-10-01T06:57, 1, \"Transit Duration\")\n"
     ]
    }
   ],
   "source": [
    "t1, t2, t3, t4 = CalculateTimeRange(2460218.73107422, 50/(24*60), 3/24, \n",
    "                                    Transit_at_left = False)\n",
    "\n",
    "print(t1,t2)\n",
    "time1 = Time(t1, format='jd')\n",
    "time2 = Time(t2, format='jd')\n",
    "time3 = Time(t3, format='jd')\n",
    "time4 = Time(t4, format='jd')\n",
    "print(time1.iso)\n",
    "print(time2.iso)\n",
    "print(time3.iso)\n",
    "print(time4.iso)\n",
    "print('---')\n",
    "print('between('+ Time_format(time1.iso) + ', ' + \n",
    "      Time_format(time2.iso) + ', 1, \"Transit Duration\")')"
   ]
  },
  {
   "cell_type": "code",
   "execution_count": 66,
   "metadata": {},
   "outputs": [
    {
     "name": "stdout",
     "output_type": "stream",
     "text": [
      "2460222.6254530973 2460222.7504530973\n",
      "2023-10-05 03:00:39.148\n",
      "2023-10-05 06:00:39.148\n",
      "2023-10-05 04:10:39.148\n",
      "2023-10-05 05:00:39.148\n",
      "---\n",
      "between(2023-10-05T03:00, 2023-10-05T06:00, 1, \"Transit Duration\")\n"
     ]
    }
   ],
   "source": [
    "t1, t2, t3, t4 = CalculateTimeRange(2460222.6914253198, 50/(24*60), 3/24, \n",
    "                                    Transit_at_left = False)\n",
    "\n",
    "print(t1,t2)\n",
    "time1 = Time(t1, format='jd')\n",
    "time2 = Time(t2, format='jd')\n",
    "time3 = Time(t3, format='jd')\n",
    "time4 = Time(t4, format='jd')\n",
    "print(time1.iso)\n",
    "print(time2.iso)\n",
    "print(time3.iso)\n",
    "print(time4.iso)\n",
    "print('---')\n",
    "print('between('+ Time_format(time1.iso) + ', ' + \n",
    "      Time_format(time2.iso) + ', 1, \"Transit Duration\")')"
   ]
  },
  {
   "cell_type": "code",
   "execution_count": 67,
   "metadata": {},
   "outputs": [
    {
     "name": "stdout",
     "output_type": "stream",
     "text": [
      "2460226.5858041975 2460226.7108041975\n",
      "2023-10-09 02:03:33.483\n",
      "2023-10-09 05:03:33.483\n",
      "2023-10-09 03:13:33.483\n",
      "2023-10-09 04:03:33.483\n",
      "---\n",
      "between(2023-10-09T02:03, 2023-10-09T05:03, 1, \"Transit Duration\")\n"
     ]
    }
   ],
   "source": [
    "t1, t2, t3, t4 = CalculateTimeRange(2460226.65177642, 50/(24*60), 3/24, \n",
    "                                    Transit_at_left = False)\n",
    "\n",
    "print(t1,t2)\n",
    "time1 = Time(t1, format='jd')\n",
    "time2 = Time(t2, format='jd')\n",
    "time3 = Time(t3, format='jd')\n",
    "time4 = Time(t4, format='jd')\n",
    "print(time1.iso)\n",
    "print(time2.iso)\n",
    "print(time3.iso)\n",
    "print(time4.iso)\n",
    "print('---')\n",
    "print('between('+ Time_format(time1.iso) + ', ' + \n",
    "      Time_format(time2.iso) + ', 1, \"Transit Duration\")')"
   ]
  },
  {
   "cell_type": "code",
   "execution_count": 68,
   "metadata": {},
   "outputs": [
    {
     "name": "stdout",
     "output_type": "stream",
     "text": [
      "2460230.546155297 2460230.671155297\n",
      "2023-10-13 01:06:27.818\n",
      "2023-10-13 04:06:27.818\n",
      "2023-10-13 02:16:27.818\n",
      "2023-10-13 03:06:27.818\n",
      "---\n",
      "between(2023-10-13T01:06, 2023-10-13T04:06, 1, \"Transit Duration\")\n"
     ]
    }
   ],
   "source": [
    "t1, t2, t3, t4 = CalculateTimeRange(2460230.6121275197, 50/(24*60), 3/24, \n",
    "                                    Transit_at_left = False)\n",
    "\n",
    "print(t1,t2)\n",
    "time1 = Time(t1, format='jd')\n",
    "time2 = Time(t2, format='jd')\n",
    "time3 = Time(t3, format='jd')\n",
    "time4 = Time(t4, format='jd')\n",
    "print(time1.iso)\n",
    "print(time2.iso)\n",
    "print(time3.iso)\n",
    "print(time4.iso)\n",
    "print('---')\n",
    "print('between('+ Time_format(time1.iso) + ', ' + \n",
    "      Time_format(time2.iso) + ', 1, \"Transit Duration\")')"
   ]
  },
  {
   "cell_type": "code",
   "execution_count": 70,
   "metadata": {},
   "outputs": [
    {
     "name": "stdout",
     "output_type": "stream",
     "text": [
      "2460234.5134508424 2460234.6384508424\n",
      "2023-10-17 00:19:22.153\n",
      "2023-10-17 03:19:22.153\n",
      "2023-10-17 01:19:22.153\n",
      "2023-10-17 02:09:22.153\n",
      "---\n",
      "between(2023-10-17T00:19, 2023-10-17T03:19, 1, \"Transit Duration\")\n"
     ]
    }
   ],
   "source": [
    "t1, t2, t3, t4 = CalculateTimeRange(2460234.57247862, 50/(24*60), 3/24, \n",
    "                                    Transit_at_left = True)\n",
    "\n",
    "print(t1,t2)\n",
    "time1 = Time(t1, format='jd')\n",
    "time2 = Time(t2, format='jd')\n",
    "time3 = Time(t3, format='jd')\n",
    "time4 = Time(t4, format='jd')\n",
    "print(time1.iso)\n",
    "print(time2.iso)\n",
    "print(time3.iso)\n",
    "print(time4.iso)\n",
    "print('---')\n",
    "print('between('+ Time_format(time1.iso) + ', ' + \n",
    "      Time_format(time2.iso) + ', 1, \"Transit Duration\")')"
   ]
  },
  {
   "cell_type": "code",
   "execution_count": 71,
   "metadata": {},
   "outputs": [
    {
     "name": "stdout",
     "output_type": "stream",
     "text": [
      "2460241.6351383775 2460241.7601383775\n",
      "2023-10-24 03:14:35.956\n",
      "2023-10-24 06:14:35.956\n",
      "2023-10-24 04:24:35.956\n",
      "2023-10-24 05:14:35.956\n",
      "---\n",
      "between(2023-10-24T03:14, 2023-10-24T06:14, 1, \"Transit Duration\")\n"
     ]
    }
   ],
   "source": [
    "t1, t2, t3, t4 = CalculateTimeRange(2460241.7011106, 50/(24*60), 3/24, \n",
    "                                    Transit_at_left = False)\n",
    "\n",
    "print(t1,t2)\n",
    "time1 = Time(t1, format='jd')\n",
    "time2 = Time(t2, format='jd')\n",
    "time3 = Time(t3, format='jd')\n",
    "time4 = Time(t4, format='jd')\n",
    "print(time1.iso)\n",
    "print(time2.iso)\n",
    "print(time3.iso)\n",
    "print(time4.iso)\n",
    "print('---')\n",
    "print('between('+ Time_format(time1.iso) + ', ' + \n",
    "      Time_format(time2.iso) + ', 1, \"Transit Duration\")')"
   ]
  },
  {
   "cell_type": "code",
   "execution_count": 72,
   "metadata": {},
   "outputs": [
    {
     "name": "stdout",
     "output_type": "stream",
     "text": [
      "2460245.5954894773 2460245.7204894773\n",
      "2023-10-28 02:17:30.291\n",
      "2023-10-28 05:17:30.291\n",
      "2023-10-28 03:27:30.291\n",
      "2023-10-28 04:17:30.291\n",
      "---\n",
      "between(2023-10-28T02:17, 2023-10-28T05:17, 1, \"Transit Duration\")\n"
     ]
    }
   ],
   "source": [
    "t1, t2, t3, t4 = CalculateTimeRange(2460245.6614616998, 50/(24*60), 3/24, \n",
    "                                    Transit_at_left = False)\n",
    "\n",
    "print(t1,t2)\n",
    "time1 = Time(t1, format='jd')\n",
    "time2 = Time(t2, format='jd')\n",
    "time3 = Time(t3, format='jd')\n",
    "time4 = Time(t4, format='jd')\n",
    "print(time1.iso)\n",
    "print(time2.iso)\n",
    "print(time3.iso)\n",
    "print(time4.iso)\n",
    "print('---')\n",
    "print('between('+ Time_format(time1.iso) + ', ' + \n",
    "      Time_format(time2.iso) + ', 1, \"Transit Duration\")')"
   ]
  },
  {
   "cell_type": "code",
   "execution_count": 74,
   "metadata": {},
   "outputs": [
    {
     "name": "stdout",
     "output_type": "stream",
     "text": [
      "2460249.5627850224 2460249.6877850224\n",
      "2023-11-01 01:30:24.626\n",
      "2023-11-01 04:30:24.626\n",
      "2023-11-01 02:30:24.626\n",
      "2023-11-01 03:20:24.626\n",
      "---\n",
      "between(2023-11-01T01:30, 2023-11-01T04:30, 1, \"Transit Duration\")\n"
     ]
    }
   ],
   "source": [
    "t1, t2, t3, t4 = CalculateTimeRange(2460249.6218128, 50/(24*60), 3/24, \n",
    "                                    Transit_at_left = True)\n",
    "\n",
    "print(t1,t2)\n",
    "time1 = Time(t1, format='jd')\n",
    "time2 = Time(t2, format='jd')\n",
    "time3 = Time(t3, format='jd')\n",
    "time4 = Time(t4, format='jd')\n",
    "print(time1.iso)\n",
    "print(time2.iso)\n",
    "print(time3.iso)\n",
    "print(time4.iso)\n",
    "print('---')\n",
    "print('between('+ Time_format(time1.iso) + ', ' + \n",
    "      Time_format(time2.iso) + ', 1, \"Transit Duration\")')"
   ]
  },
  {
   "cell_type": "code",
   "execution_count": 76,
   "metadata": {},
   "outputs": [
    {
     "name": "stdout",
     "output_type": "stream",
     "text": [
      "2460253.523136122 2460253.648136122\n",
      "2023-11-05 00:33:18.961\n",
      "2023-11-05 03:33:18.961\n",
      "2023-11-05 01:33:18.961\n",
      "2023-11-05 02:23:18.961\n",
      "---\n",
      "between(2023-11-05T00:33, 2023-11-05T03:33, 1, \"Transit Duration\")\n"
     ]
    }
   ],
   "source": [
    "t1, t2, t3, t4 = CalculateTimeRange(2460253.5821638997, 50/(24*60), 3/24, \n",
    "                                    Transit_at_left = True)\n",
    "\n",
    "print(t1,t2)\n",
    "time1 = Time(t1, format='jd')\n",
    "time2 = Time(t2, format='jd')\n",
    "time3 = Time(t3, format='jd')\n",
    "time4 = Time(t4, format='jd')\n",
    "print(time1.iso)\n",
    "print(time2.iso)\n",
    "print(time3.iso)\n",
    "print(time4.iso)\n",
    "print('---')\n",
    "print('between('+ Time_format(time1.iso) + ', ' + \n",
    "      Time_format(time2.iso) + ', 1, \"Transit Duration\")')"
   ]
  },
  {
   "cell_type": "code",
   "execution_count": 78,
   "metadata": {},
   "outputs": [
    {
     "name": "stdout",
     "output_type": "stream",
     "text": [
      "2460268.5655258573 2460268.6905258573\n",
      "2023-11-20 01:34:21.434\n",
      "2023-11-20 04:34:21.434\n",
      "2023-11-20 02:44:21.434\n",
      "2023-11-20 03:34:21.434\n",
      "---\n",
      "between(2023-11-20T01:34, 2023-11-20T04:34, 1, \"Transit Duration\")\n"
     ]
    }
   ],
   "source": [
    "t1, t2, t3, t4 = CalculateTimeRange(2460268.6314980797, 50/(24*60), 3/24, \n",
    "                                    Transit_at_left = False)\n",
    "\n",
    "print(t1,t2)\n",
    "time1 = Time(t1, format='jd')\n",
    "time2 = Time(t2, format='jd')\n",
    "time3 = Time(t3, format='jd')\n",
    "time4 = Time(t4, format='jd')\n",
    "print(time1.iso)\n",
    "print(time2.iso)\n",
    "print(time3.iso)\n",
    "print(time4.iso)\n",
    "print('---')\n",
    "print('between('+ Time_format(time1.iso) + ', ' + \n",
    "      Time_format(time2.iso) + ', 1, \"Transit Duration\")')"
   ]
  },
  {
   "cell_type": "code",
   "execution_count": 81,
   "metadata": {},
   "outputs": [
    {
     "name": "stdout",
     "output_type": "stream",
     "text": [
      "2460272.5258769575 2460272.6508769575\n",
      "2023-11-24 00:37:15.769\n",
      "2023-11-24 03:37:15.769\n",
      "2023-11-24 01:47:15.769\n",
      "2023-11-24 02:37:15.769\n",
      "---\n",
      "between(2023-11-24T00:37, 2023-11-24T03:37, 1, \"Transit Duration\")\n"
     ]
    }
   ],
   "source": [
    "t1, t2, t3, t4 = CalculateTimeRange(2460272.59184918, 50/(24*60), 3/24, \n",
    "                                    Transit_at_left = False)\n",
    "\n",
    "print(t1,t2)\n",
    "time1 = Time(t1, format='jd')\n",
    "time2 = Time(t2, format='jd')\n",
    "time3 = Time(t3, format='jd')\n",
    "time4 = Time(t4, format='jd')\n",
    "print(time1.iso)\n",
    "print(time2.iso)\n",
    "print(time3.iso)\n",
    "print(time4.iso)\n",
    "print('---')\n",
    "print('between('+ Time_format(time1.iso) + ', ' + \n",
    "      Time_format(time2.iso) + ', 1, \"Transit Duration\")')"
   ]
  },
  {
   "cell_type": "code",
   "execution_count": 82,
   "metadata": {},
   "outputs": [
    {
     "data": {
      "text/plain": [
       "3600"
      ]
     },
     "execution_count": 82,
     "metadata": {},
     "output_type": "execute_result"
    }
   ],
   "source": [
    "60*60"
   ]
  },
  {
   "cell_type": "code",
   "execution_count": null,
   "metadata": {},
   "outputs": [],
   "source": []
  }
 ],
 "metadata": {
  "kernelspec": {
   "display_name": "Python 3 (ipykernel)",
   "language": "python",
   "name": "python3"
  },
  "language_info": {
   "codemirror_mode": {
    "name": "ipython",
    "version": 3
   },
   "file_extension": ".py",
   "mimetype": "text/x-python",
   "name": "python",
   "nbconvert_exporter": "python",
   "pygments_lexer": "ipython3",
   "version": "3.11.4"
  }
 },
 "nbformat": 4,
 "nbformat_minor": 4
}
