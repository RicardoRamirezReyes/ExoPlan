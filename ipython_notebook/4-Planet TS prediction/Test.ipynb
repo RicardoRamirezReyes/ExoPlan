{
 "cells": [
  {
   "cell_type": "code",
   "execution_count": 1,
   "metadata": {},
   "outputs": [],
   "source": [
    "%matplotlib inline"
   ]
  },
  {
   "cell_type": "code",
   "execution_count": 2,
   "metadata": {},
   "outputs": [],
   "source": [
    "import numpy as np\n",
    "from petitRADTRANS import Radtrans"
   ]
  },
  {
   "cell_type": "code",
   "execution_count": 3,
   "metadata": {},
   "outputs": [
    {
     "name": "stderr",
     "output_type": "stream",
     "text": [
      "/Users/ricardoramirez/miniconda3/envs/petitRADTRANS/lib/python3.10/site-packages/petitRADTRANS/radtrans.py:119: FutureWarning: pRT_input_data_path was set by an environment variable. In a future update, the path to the petitRADTRANS input_data will be set within a .ini file that will be automatically generated into the user home directory (OS agnostic), inside a .petitradtrans directory\n",
      "  warnings.warn(f\"pRT_input_data_path was set by an environment variable. In a future update, the path to \"\n"
     ]
    },
    {
     "name": "stdout",
     "output_type": "stream",
     "text": [
      "  Read line opacities of H2O_HITEMP...\n",
      "  Read line opacities of CO_all_iso_HITEMP...\n",
      "  Read line opacities of CH4...\n",
      " Done.\n",
      "  Read line opacities of CO2...\n",
      " Done.\n",
      "  Read line opacities of Na_allard...\n",
      "  Read line opacities of K_allard...\n",
      "\n",
      "  Read CIA opacities for H2-H2...\n",
      "  Read CIA opacities for H2-He...\n",
      "Done.\n",
      "\n"
     ]
    }
   ],
   "source": [
    "atmosphere = Radtrans(line_species = ['H2O_HITEMP',\n",
    "                                      'CO_all_iso_HITEMP',\n",
    "                                      'CH4',\n",
    "                                      'CO2',\n",
    "                                      'Na_allard',\n",
    "                                      'K_allard'],\n",
    "                      rayleigh_species = ['H2', 'He'],\n",
    "                      continuum_opacities = ['H2-H2', 'H2-He'],\n",
    "                      wlen_bords_micron = [0.3, 15])"
   ]
  },
  {
   "cell_type": "code",
   "execution_count": 4,
   "metadata": {},
   "outputs": [],
   "source": [
    "pressures = np.logspace(-6, 2, 100)"
   ]
  },
  {
   "cell_type": "code",
   "execution_count": 5,
   "metadata": {},
   "outputs": [],
   "source": [
    "temperature = 1200. * np.ones_like(pressures)\n",
    "\n",
    "mass_fractions = {}\n",
    "mass_fractions['H2'] = 0.74 * np.ones_like(temperature)\n",
    "mass_fractions['He'] = 0.24 * np.ones_like(temperature)\n",
    "mass_fractions['H2O_HITEMP'] = 0.001 * np.ones_like(temperature)\n",
    "mass_fractions['CO_all_iso_HITEMP'] = 0.01 * np.ones_like(temperature)\n",
    "mass_fractions['CO2'] = 0.00001 * np.ones_like(temperature)\n",
    "mass_fractions['CH4'] = 0.000001 * np.ones_like(temperature)\n",
    "mass_fractions['Na_allard'] = 0.00001 * np.ones_like(temperature)\n",
    "mass_fractions['K_allard'] = 0.000001 * np.ones_like(temperature)\n",
    "\n",
    "MMW = 2.33 * np.ones_like(temperature)"
   ]
  },
  {
   "cell_type": "code",
   "execution_count": 6,
   "metadata": {},
   "outputs": [],
   "source": [
    "from petitRADTRANS import nat_cst as nc\n",
    "R_pl = 1.838*nc.r_jup_mean\n",
    "gravity = 1e1**2.45\n",
    "P0 = 0.01"
   ]
  },
  {
   "cell_type": "code",
   "execution_count": 7,
   "metadata": {},
   "outputs": [
    {
     "ename": "ValueError",
     "evalue": "fort_input.fort_input.interpol_opa_ck: failed to create array from the 2nd argument `temp` -- 0-th dimension must be fixed to 1 but got 100",
     "output_type": "error",
     "traceback": [
      "\u001b[0;31m---------------------------------------------------------------------------\u001b[0m",
      "\u001b[0;31mValueError\u001b[0m                                Traceback (most recent call last)",
      "Cell \u001b[0;32mIn[7], line 1\u001b[0m\n\u001b[0;32m----> 1\u001b[0m \u001b[43matmosphere\u001b[49m\u001b[38;5;241;43m.\u001b[39;49m\u001b[43mcalc_transm\u001b[49m\u001b[43m(\u001b[49m\u001b[43mtemperature\u001b[49m\u001b[43m,\u001b[49m\u001b[43m \u001b[49m\u001b[43mmass_fractions\u001b[49m\u001b[43m,\u001b[49m\u001b[43m \u001b[49m\u001b[43mgravity\u001b[49m\u001b[43m,\u001b[49m\u001b[43m \u001b[49m\u001b[43mMMW\u001b[49m\u001b[43m,\u001b[49m\u001b[43m \u001b[49m\u001b[43mR_pl\u001b[49m\u001b[38;5;241;43m=\u001b[39;49m\u001b[43mR_pl\u001b[49m\u001b[43m,\u001b[49m\u001b[43m \u001b[49m\u001b[43mP0_bar\u001b[49m\u001b[38;5;241;43m=\u001b[39;49m\u001b[43mP0\u001b[49m\u001b[43m)\u001b[49m\n",
      "File \u001b[0;32m~/miniconda3/envs/petitRADTRANS/lib/python3.10/site-packages/petitRADTRANS/radtrans.py:1555\u001b[0m, in \u001b[0;36mRadtrans.calc_transm\u001b[0;34m(self, temp, abunds, gravity, mmw, P0_bar, R_pl, sigma_lnorm, fsed, Kzz, radius, Pcloud, kappa_zero, gamma_scat, contribution, haze_factor, gray_opacity, variable_gravity, dist, b_hans, a_hans, give_absorption_opacity, give_scattering_opacity)\u001b[0m\n\u001b[1;32m   1553\u001b[0m \u001b[38;5;28mself\u001b[39m\u001b[38;5;241m.\u001b[39mPcloud \u001b[38;5;241m=\u001b[39m Pcloud\n\u001b[1;32m   1554\u001b[0m \u001b[38;5;28mself\u001b[39m\u001b[38;5;241m.\u001b[39mgray_opacity \u001b[38;5;241m=\u001b[39m gray_opacity\n\u001b[0;32m-> 1555\u001b[0m \u001b[38;5;28;43mself\u001b[39;49m\u001b[38;5;241;43m.\u001b[39;49m\u001b[43minterpolate_species_opa\u001b[49m\u001b[43m(\u001b[49m\u001b[43mtemp\u001b[49m\u001b[43m)\u001b[49m\n\u001b[1;32m   1556\u001b[0m \u001b[38;5;28mself\u001b[39m\u001b[38;5;241m.\u001b[39mhaze_factor \u001b[38;5;241m=\u001b[39m haze_factor\n\u001b[1;32m   1557\u001b[0m \u001b[38;5;28mself\u001b[39m\u001b[38;5;241m.\u001b[39mkappa_zero \u001b[38;5;241m=\u001b[39m kappa_zero\n",
      "File \u001b[0;32m~/miniconda3/envs/petitRADTRANS/lib/python3.10/site-packages/petitRADTRANS/radtrans.py:550\u001b[0m, in \u001b[0;36mRadtrans.interpolate_species_opa\u001b[0;34m(self, temp)\u001b[0m\n\u001b[1;32m    548\u001b[0m \u001b[38;5;28;01mif\u001b[39;00m \u001b[38;5;28mlen\u001b[39m(\u001b[38;5;28mself\u001b[39m\u001b[38;5;241m.\u001b[39mline_species) \u001b[38;5;241m>\u001b[39m \u001b[38;5;241m0\u001b[39m:\n\u001b[1;32m    549\u001b[0m     \u001b[38;5;28;01mfor\u001b[39;00m i_spec \u001b[38;5;129;01min\u001b[39;00m \u001b[38;5;28mrange\u001b[39m(\u001b[38;5;28mlen\u001b[39m(\u001b[38;5;28mself\u001b[39m\u001b[38;5;241m.\u001b[39mline_species)):\n\u001b[0;32m--> 550\u001b[0m         \u001b[38;5;28mself\u001b[39m\u001b[38;5;241m.\u001b[39mline_struc_kappas[:, :, i_spec, :] \u001b[38;5;241m=\u001b[39m \u001b[43mfi\u001b[49m\u001b[38;5;241;43m.\u001b[39;49m\u001b[43minterpol_opa_ck\u001b[49m\u001b[43m(\u001b[49m\n\u001b[1;32m    551\u001b[0m \u001b[43m            \u001b[49m\u001b[38;5;28;43mself\u001b[39;49m\u001b[38;5;241;43m.\u001b[39;49m\u001b[43mpress\u001b[49m\u001b[43m,\u001b[49m\n\u001b[1;32m    552\u001b[0m \u001b[43m            \u001b[49m\u001b[43mtemp\u001b[49m\u001b[43m,\u001b[49m\n\u001b[1;32m    553\u001b[0m \u001b[43m            \u001b[49m\u001b[38;5;28;43mself\u001b[39;49m\u001b[38;5;241;43m.\u001b[39;49m\u001b[43mcustom_line_TP_grid\u001b[49m\u001b[43m[\u001b[49m\u001b[38;5;28;43mself\u001b[39;49m\u001b[38;5;241;43m.\u001b[39;49m\u001b[43mline_species\u001b[49m\u001b[43m[\u001b[49m\u001b[43mi_spec\u001b[49m\u001b[43m]\u001b[49m\u001b[43m]\u001b[49m\u001b[43m,\u001b[49m\n\u001b[1;32m    554\u001b[0m \u001b[43m            \u001b[49m\u001b[38;5;28;43mself\u001b[39;49m\u001b[38;5;241;43m.\u001b[39;49m\u001b[43mcustom_grid\u001b[49m\u001b[43m[\u001b[49m\u001b[38;5;28;43mself\u001b[39;49m\u001b[38;5;241;43m.\u001b[39;49m\u001b[43mline_species\u001b[49m\u001b[43m[\u001b[49m\u001b[43mi_spec\u001b[49m\u001b[43m]\u001b[49m\u001b[43m]\u001b[49m\u001b[43m,\u001b[49m\n\u001b[1;32m    555\u001b[0m \u001b[43m            \u001b[49m\u001b[38;5;28;43mself\u001b[39;49m\u001b[38;5;241;43m.\u001b[39;49m\u001b[43mcustom_diffTs\u001b[49m\u001b[43m[\u001b[49m\u001b[38;5;28;43mself\u001b[39;49m\u001b[38;5;241;43m.\u001b[39;49m\u001b[43mline_species\u001b[49m\u001b[43m[\u001b[49m\u001b[43mi_spec\u001b[49m\u001b[43m]\u001b[49m\u001b[43m]\u001b[49m\u001b[43m,\u001b[49m\n\u001b[1;32m    556\u001b[0m \u001b[43m            \u001b[49m\u001b[38;5;28;43mself\u001b[39;49m\u001b[38;5;241;43m.\u001b[39;49m\u001b[43mcustom_diffPs\u001b[49m\u001b[43m[\u001b[49m\u001b[38;5;28;43mself\u001b[39;49m\u001b[38;5;241;43m.\u001b[39;49m\u001b[43mline_species\u001b[49m\u001b[43m[\u001b[49m\u001b[43mi_spec\u001b[49m\u001b[43m]\u001b[49m\u001b[43m]\u001b[49m\u001b[43m,\u001b[49m\n\u001b[1;32m    557\u001b[0m \u001b[43m            \u001b[49m\u001b[38;5;28;43mself\u001b[39;49m\u001b[38;5;241;43m.\u001b[39;49m\u001b[43mline_grid_kappas_custom_PT\u001b[49m\u001b[43m[\u001b[49m\u001b[38;5;28;43mself\u001b[39;49m\u001b[38;5;241;43m.\u001b[39;49m\u001b[43mline_species\u001b[49m\u001b[43m[\u001b[49m\u001b[43mi_spec\u001b[49m\u001b[43m]\u001b[49m\u001b[43m]\u001b[49m\n\u001b[1;32m    558\u001b[0m \u001b[43m        \u001b[49m\u001b[43m)\u001b[49m\n\u001b[1;32m    559\u001b[0m \u001b[38;5;28;01melse\u001b[39;00m:\n\u001b[1;32m    560\u001b[0m     \u001b[38;5;28mself\u001b[39m\u001b[38;5;241m.\u001b[39mline_struc_kappas \u001b[38;5;241m=\u001b[39m np\u001b[38;5;241m.\u001b[39mzeros_like(\u001b[38;5;28mself\u001b[39m\u001b[38;5;241m.\u001b[39mline_struc_kappas)\n",
      "\u001b[0;31mValueError\u001b[0m: fort_input.fort_input.interpol_opa_ck: failed to create array from the 2nd argument `temp` -- 0-th dimension must be fixed to 1 but got 100"
     ]
    }
   ],
   "source": [
    "atmosphere.calc_transm(temperature, mass_fractions, gravity, MMW, R_pl=R_pl, P0_bar=P0)"
   ]
  },
  {
   "cell_type": "code",
   "execution_count": null,
   "metadata": {},
   "outputs": [],
   "source": []
  }
 ],
 "metadata": {
  "kernelspec": {
   "display_name": "Python 3 (ipykernel)",
   "language": "python",
   "name": "python3"
  },
  "language_info": {
   "codemirror_mode": {
    "name": "ipython",
    "version": 3
   },
   "file_extension": ".py",
   "mimetype": "text/x-python",
   "name": "python",
   "nbconvert_exporter": "python",
   "pygments_lexer": "ipython3",
   "version": "3.10.12"
  }
 },
 "nbformat": 4,
 "nbformat_minor": 4
}
