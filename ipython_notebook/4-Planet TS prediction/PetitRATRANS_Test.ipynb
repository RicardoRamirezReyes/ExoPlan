{
 "cells": [
  {
   "cell_type": "code",
   "execution_count": 1,
   "id": "0bbf1e94-84a0-498e-8268-c2b47adf7e15",
   "metadata": {},
   "outputs": [],
   "source": [
    "%matplotlib inline"
   ]
  },
  {
   "cell_type": "code",
   "execution_count": null,
   "id": "09aa948b-5a2b-486f-91cf-c1992fcc8c1e",
   "metadata": {},
   "outputs": [],
   "source": [
    "import numpy as np\n",
    "from petitRADTRANS import Radtrans\n",
    "\n",
    "atmosphere = Radtrans(line_species = ['H2O_main_iso',\n",
    "                                      'CO_all_iso',\n",
    "                                      'CH4_main_iso',\n",
    "                                      'CO2_main_iso',\n",
    "                                      'Na',\n",
    "                                      'K'],\n",
    "                      rayleigh_species = ['H2', 'He'],\n",
    "                      continuum_opacities = ['H2-H2', 'H2-He'],\n",
    "                      wlen_bords_micron = [2.2, 2.4],\n",
    "                      mode = 'lbl')\n",
    "\n",
    "pressures = np.logspace(-10, 2, 130)\n",
    "atmosphere.setup_opa_structure(pressures)"
   ]
  },
  {
   "cell_type": "code",
   "execution_count": null,
   "id": "e0e6456c-a512-4b70-99de-d6c249682d83",
   "metadata": {},
   "outputs": [],
   "source": []
  }
 ],
 "metadata": {
  "kernelspec": {
   "display_name": "Python 3 (ipykernel)",
   "language": "python",
   "name": "python3"
  },
  "language_info": {
   "codemirror_mode": {
    "name": "ipython",
    "version": 3
   },
   "file_extension": ".py",
   "mimetype": "text/x-python",
   "name": "python",
   "nbconvert_exporter": "python",
   "pygments_lexer": "ipython3",
   "version": "3.10.12"
  }
 },
 "nbformat": 4,
 "nbformat_minor": 5
}
